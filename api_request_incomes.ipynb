{
 "cells": [
  {
   "cell_type": "markdown",
   "id": "adfe2bab",
   "metadata": {},
   "source": [
    "# Incomes"
   ]
  },
  {
   "cell_type": "code",
   "execution_count": 1,
   "id": "67b26295",
   "metadata": {},
   "outputs": [],
   "source": [
    "import requests\n",
    "import pandas as pd\n",
    "import json\n",
    "import time\n",
    "from datetime import date"
   ]
  },
  {
   "cell_type": "code",
   "execution_count": null,
   "id": "847f174f",
   "metadata": {},
   "outputs": [],
   "source": [
    "# Склад остатки - stocks?dateFrom=2023-04-12\n",
    "# Заказы        - orders?dateFrom=2023-02-09&flag=0\n",
    "# Продажи       - sales?dateFrom=2023-02-09&flag=0\n",
    "# Поставки      - incomes?dateFrom=2023-03-19\n",
    "# Отчет о продажах по реализации - reportDetailByPeriod?dateFrom=2023-02-09&dateTo=2023-02-28"
   ]
  },
  {
   "cell_type": "code",
   "execution_count": 2,
   "id": "644eb15d",
   "metadata": {
    "collapsed": true
   },
   "outputs": [
    {
     "name": "stdout",
     "output_type": "stream",
     "text": [
      "[{\"incomeId\":10960235,\"number\":\"\",\"date\":\"2023-02-21T00:00:00\",\"lastChangeDate\":\"2023-02-21T13:46:34.13\",\"supplierArticle\":\"Синий халат\",\"techSize\":\"XS-L\",\"barcode\":\"2037488779201\",\"quantity\":37,\"totalPrice\":0,\"dateClose\":\"2023-02-21T00:00:00\",\"warehouseName\":\"Подольск\",\"nmId\":147263461,\"status\":\"Принято\"},{\"incomeId\":10960235,\"number\":\"\",\"date\":\"2023-02-21T00:00:00\",\"lastChangeDate\":\"2023-02-21T13:46:34.13\",\"supplierArticle\":\"Этнический халат\",\"techSize\":\"XS-L\",\"barcode\":\"2037488839493\",\"quantity\":28,\"totalPrice\":0,\"dateClose\":\"2023-02-21T00:00:00\",\"warehouseName\":\"Подольск\",\"nmId\":147263932,\"status\":\"Принято\"},{\"incomeId\":10960235,\"number\":\"\",\"date\":\"2023-02-21T00:00:00\",\"lastChangeDate\":\"2023-02-21T13:46:34.13\",\"supplierArticle\":\"Шелковая пижама лист1\",\"techSize\":\"XS-L\",\"barcode\":\"2037488886244\",\"quantity\":25,\"totalPrice\":0,\"dateClose\":\"2023-02-21T00:00:00\",\"warehouseName\":\"Подольск\",\"nmId\":147271346,\"status\":\"Принято\"},{\"incomeId\":10960235,\"number\":\"\",\"date\":\"2023-02-21T00:00:00\",\"lastChangeDate\":\"2023-02-21T13:46:34.13\",\"supplierArticle\":\"Шелковая пижама белые листья\",\"techSize\":\"XS-L\",\"barcode\":\"2037489085684\",\"quantity\":5,\"totalPrice\":0,\"dateClose\":\"2023-02-21T00:00:00\",\"warehouseName\":\"Подольск\",\"nmId\":147271347,\"status\":\"Принято\"},{\"incomeId\":11211020,\"number\":\"\",\"date\":\"2023-03-12T00:00:00\",\"lastChangeDate\":\"2023-03-12T18:54:03.707\",\"supplierArticle\":\"Черно-белый\",\"techSize\":\"XS-L\",\"barcode\":\"2037562208955\",\"quantity\":4,\"totalPrice\":0,\"dateClose\":\"2023-03-12T00:00:00\",\"warehouseName\":\"Подольск\",\"nmId\":150055844,\"status\":\"Принято\"},{\"incomeId\":11211020,\"number\":\"\",\"date\":\"2023-03-12T00:00:00\",\"lastChangeDate\":\"2023-03-12T18:54:03.707\",\"supplierArticle\":\"Цвет ЗАРА\",\"techSize\":\"XS-L\",\"barcode\":\"2037562205367\",\"quantity\":4,\"totalPrice\":0,\"dateClose\":\"2023-03-12T00:00:00\",\"warehouseName\":\"Подольск\",\"nmId\":150055845,\"status\":\"Принято\"},{\"incomeId\":11211020,\"number\":\"\",\"date\":\"2023-03-12T00:00:00\",\"lastChangeDate\":\"2023-03-12T18:54:03.707\",\"supplierArticle\":\"Красный\",\"techSize\":\"XS-L\",\"barcode\":\"2037562217254\",\"quantity\":2,\"totalPrice\":0,\"dateClose\":\"2023-03-12T00:00:00\",\"warehouseName\":\"Подольск\",\"nmId\":150055853,\"status\":\"Принято\"},{\"incomeId\":11211020,\"number\":\"\",\"date\":\"2023-03-12T00:00:00\",\"lastChangeDate\":\"2023-03-12T18:54:03.707\",\"supplierArticle\":\"Тигры\",\"techSize\":\"XS-L\",\"barcode\":\"2037562277036\",\"quantity\":2,\"totalPrice\":0,\"dateClose\":\"2023-03-12T00:00:00\",\"warehouseName\":\"Подольск\",\"nmId\":150055857,\"status\":\"Принято\"},{\"incomeId\":11211020,\"number\":\"\",\"date\":\"2023-03-12T00:00:00\",\"lastChangeDate\":\"2023-03-12T18:54:03.707\",\"supplierArticle\":\"черный журавли\",\"techSize\":\"XS-L\",\"barcode\":\"2037562345810\",\"quantity\":4,\"totalPrice\":0,\"dateClose\":\"2023-03-12T00:00:00\",\"warehouseName\":\"Подольск\",\"nmId\":150055859,\"status\":\"Принято\"},{\"incomeId\":12206148,\"number\":\"\",\"date\":\"2023-05-04T00:00:00\",\"lastChangeDate\":\"2023-05-04T15:26:26.34\",\"supplierArticle\":\"Этнический халат\",\"techSize\":\"XS-L\",\"barcode\":\"2037488839493\",\"quantity\":9,\"totalPrice\":0,\"dateClose\":\"2023-05-04T00:00:00\",\"warehouseName\":\"\",\"nmId\":147263932,\"status\":\"Принято\"},{\"incomeId\":12206148,\"number\":\"\",\"date\":\"2023-05-04T00:00:00\",\"lastChangeDate\":\"2023-05-04T15:26:26.34\",\"supplierArticle\":\"Голубалдеж\",\"techSize\":\"XS-S\",\"barcode\":\"2037773721250\",\"quantity\":9,\"totalPrice\":0,\"dateClose\":\"2023-05-04T00:00:00\",\"warehouseName\":\"\",\"nmId\":159411808,\"status\":\"Принято\"},{\"incomeId\":12206148,\"number\":\"\",\"date\":\"2023-05-04T00:00:00\",\"lastChangeDate\":\"2023-05-04T15:26:26.34\",\"supplierArticle\":\"Голубалдеж\",\"techSize\":\"M-L\",\"barcode\":\"2037773721267\",\"quantity\":11,\"totalPrice\":0,\"dateClose\":\"2023-05-04T00:00:00\",\"warehouseName\":\"\",\"nmId\":159411808,\"status\":\"Принято\"},{\"incomeId\":12206148,\"number\":\"\",\"date\":\"2023-05-04T00:00:00\",\"lastChangeDate\":\"2023-05-04T15:26:26.34\",\"supplierArticle\":\"розовежник\",\"techSize\":\"M-L\",\"barcode\":\"2037773721137\",\"quantity\":2,\"totalPrice\":0,\"dateClose\":\"2023-05-04T00:00:00\",\"warehouseName\":\"\",\"nmId\":159411809,\"status\":\"Принято\"},{\"incomeId\":12696490,\"number\":\"\",\"date\":\"2023-06-03T00:00:00\",\"lastChangeDate\":\"2023-06-03T04:01:18.247\",\"supplierArticle\":\"Этнический халат\",\"techSize\":\"XS-L\",\"barcode\":\"2037488839493\",\"quantity\":28,\"totalPrice\":0,\"dateClose\":\"2023-06-03T00:00:00\",\"warehouseName\":\"\",\"nmId\":147263932,\"status\":\"Принято\"},{\"incomeId\":12696490,\"number\":\"\",\"date\":\"2023-06-03T00:00:00\",\"lastChangeDate\":\"2023-06-03T04:01:18.247\",\"supplierArticle\":\"Голубалдеж\",\"techSize\":\"XS-S\",\"barcode\":\"2037773721250\",\"quantity\":8,\"totalPrice\":0,\"dateClose\":\"2023-06-03T00:00:00\",\"warehouseName\":\"\",\"nmId\":159411808,\"status\":\"Принято\"},{\"incomeId\":12696490,\"number\":\"\",\"date\":\"2023-06-03T00:00:00\",\"lastChangeDate\":\"2023-06-03T04:01:18.247\",\"supplierArticle\":\"Голубалдеж\",\"techSize\":\"M-L\",\"barcode\":\"2037773721267\",\"quantity\":13,\"totalPrice\":0,\"dateClose\":\"2023-06-03T00:00:00\",\"warehouseName\":\"\",\"nmId\":159411808,\"status\":\"Принято\"},{\"incomeId\":12696490,\"number\":\"\",\"date\":\"2023-06-03T00:00:00\",\"lastChangeDate\":\"2023-06-03T04:01:18.247\",\"supplierArticle\":\"Большие размеры\",\"techSize\":\"50-52\",\"barcode\":\"2037931695126\",\"quantity\":7,\"totalPrice\":0,\"dateClose\":\"2023-06-03T00:00:00\",\"warehouseName\":\"\",\"nmId\":163665918,\"status\":\"Принято\"},{\"incomeId\":12696490,\"number\":\"\",\"date\":\"2023-06-03T00:00:00\",\"lastChangeDate\":\"2023-06-03T04:01:18.247\",\"supplierArticle\":\"Большие размеры\",\"techSize\":\"54-56\",\"barcode\":\"2037931695133\",\"quantity\":7,\"totalPrice\":0,\"dateClose\":\"2023-06-03T00:00:00\",\"warehouseName\":\"\",\"nmId\":163665918,\"status\":\"Принято\"},{\"incomeId\":12696490,\"number\":\"\",\"date\":\"2023-06-03T00:00:00\",\"lastChangeDate\":\"2023-06-03T04:01:18.247\",\"supplierArticle\":\"Этнический халат\",\"techSize\":\"L-XXXL\",\"barcode\":\"2037931716449\",\"quantity\":30,\"totalPrice\":0,\"dateClose\":\"2023-06-03T00:00:00\",\"warehouseName\":\"\",\"nmId\":147263932,\"status\":\"Принято\"}]\n"
     ]
    }
   ],
   "source": [
    "# Выгружаем данные\n",
    "# На выходе получается строка с информацие в виде словаря\n",
    "url = \"https://statistics-api.wildberries.ru/api/v1/supplier/incomes?dateFrom=2023-01-01\"\n",
    "payload = {}\n",
    "headers = {\n",
    "  'Authorization': ''\n",
    "}\n",
    "response = requests.request(\"GET\", url, headers=headers, data=payload)\n",
    "print(response.text)"
   ]
  },
  {
   "cell_type": "code",
   "execution_count": 3,
   "id": "19f154aa",
   "metadata": {
    "collapsed": true
   },
   "outputs": [
    {
     "data": {
      "text/plain": [
       "'[{\"incomeId\":10960235,\"number\":\"\",\"date\":\"2023-02-21T00:00:00\",\"lastChangeDate\":\"2023-02-21T13:46:34.13\",\"supplierArticle\":\"Синий халат\",\"techSize\":\"XS-L\",\"barcode\":\"2037488779201\",\"quantity\":37,\"totalPrice\":0,\"dateClose\":\"2023-02-21T00:00:00\",\"warehouseName\":\"Подольск\",\"nmId\":147263461,\"status\":\"Принято\"},{\"incomeId\":10960235,\"number\":\"\",\"date\":\"2023-02-21T00:00:00\",\"lastChangeDate\":\"2023-02-21T13:46:34.13\",\"supplierArticle\":\"Этнический халат\",\"techSize\":\"XS-L\",\"barcode\":\"2037488839493\",\"quantity\":28,\"totalPrice\":0,\"dateClose\":\"2023-02-21T00:00:00\",\"warehouseName\":\"Подольск\",\"nmId\":147263932,\"status\":\"Принято\"},{\"incomeId\":10960235,\"number\":\"\",\"date\":\"2023-02-21T00:00:00\",\"lastChangeDate\":\"2023-02-21T13:46:34.13\",\"supplierArticle\":\"Шелковая пижама лист1\",\"techSize\":\"XS-L\",\"barcode\":\"2037488886244\",\"quantity\":25,\"totalPrice\":0,\"dateClose\":\"2023-02-21T00:00:00\",\"warehouseName\":\"Подольск\",\"nmId\":147271346,\"status\":\"Принято\"},{\"incomeId\":10960235,\"number\":\"\",\"date\":\"2023-02-21T00:00:00\",\"lastChangeDate\":\"2023-02-21T13:46:34.13\",\"supplierArticle\":\"Шелковая пижама белые листья\",\"techSize\":\"XS-L\",\"barcode\":\"2037489085684\",\"quantity\":5,\"totalPrice\":0,\"dateClose\":\"2023-02-21T00:00:00\",\"warehouseName\":\"Подольск\",\"nmId\":147271347,\"status\":\"Принято\"},{\"incomeId\":11211020,\"number\":\"\",\"date\":\"2023-03-12T00:00:00\",\"lastChangeDate\":\"2023-03-12T18:54:03.707\",\"supplierArticle\":\"Черно-белый\",\"techSize\":\"XS-L\",\"barcode\":\"2037562208955\",\"quantity\":4,\"totalPrice\":0,\"dateClose\":\"2023-03-12T00:00:00\",\"warehouseName\":\"Подольск\",\"nmId\":150055844,\"status\":\"Принято\"},{\"incomeId\":11211020,\"number\":\"\",\"date\":\"2023-03-12T00:00:00\",\"lastChangeDate\":\"2023-03-12T18:54:03.707\",\"supplierArticle\":\"Цвет ЗАРА\",\"techSize\":\"XS-L\",\"barcode\":\"2037562205367\",\"quantity\":4,\"totalPrice\":0,\"dateClose\":\"2023-03-12T00:00:00\",\"warehouseName\":\"Подольск\",\"nmId\":150055845,\"status\":\"Принято\"},{\"incomeId\":11211020,\"number\":\"\",\"date\":\"2023-03-12T00:00:00\",\"lastChangeDate\":\"2023-03-12T18:54:03.707\",\"supplierArticle\":\"Красный\",\"techSize\":\"XS-L\",\"barcode\":\"2037562217254\",\"quantity\":2,\"totalPrice\":0,\"dateClose\":\"2023-03-12T00:00:00\",\"warehouseName\":\"Подольск\",\"nmId\":150055853,\"status\":\"Принято\"},{\"incomeId\":11211020,\"number\":\"\",\"date\":\"2023-03-12T00:00:00\",\"lastChangeDate\":\"2023-03-12T18:54:03.707\",\"supplierArticle\":\"Тигры\",\"techSize\":\"XS-L\",\"barcode\":\"2037562277036\",\"quantity\":2,\"totalPrice\":0,\"dateClose\":\"2023-03-12T00:00:00\",\"warehouseName\":\"Подольск\",\"nmId\":150055857,\"status\":\"Принято\"},{\"incomeId\":11211020,\"number\":\"\",\"date\":\"2023-03-12T00:00:00\",\"lastChangeDate\":\"2023-03-12T18:54:03.707\",\"supplierArticle\":\"черный журавли\",\"techSize\":\"XS-L\",\"barcode\":\"2037562345810\",\"quantity\":4,\"totalPrice\":0,\"dateClose\":\"2023-03-12T00:00:00\",\"warehouseName\":\"Подольск\",\"nmId\":150055859,\"status\":\"Принято\"},{\"incomeId\":12206148,\"number\":\"\",\"date\":\"2023-05-04T00:00:00\",\"lastChangeDate\":\"2023-05-04T15:26:26.34\",\"supplierArticle\":\"Этнический халат\",\"techSize\":\"XS-L\",\"barcode\":\"2037488839493\",\"quantity\":9,\"totalPrice\":0,\"dateClose\":\"2023-05-04T00:00:00\",\"warehouseName\":\"\",\"nmId\":147263932,\"status\":\"Принято\"},{\"incomeId\":12206148,\"number\":\"\",\"date\":\"2023-05-04T00:00:00\",\"lastChangeDate\":\"2023-05-04T15:26:26.34\",\"supplierArticle\":\"Голубалдеж\",\"techSize\":\"XS-S\",\"barcode\":\"2037773721250\",\"quantity\":9,\"totalPrice\":0,\"dateClose\":\"2023-05-04T00:00:00\",\"warehouseName\":\"\",\"nmId\":159411808,\"status\":\"Принято\"},{\"incomeId\":12206148,\"number\":\"\",\"date\":\"2023-05-04T00:00:00\",\"lastChangeDate\":\"2023-05-04T15:26:26.34\",\"supplierArticle\":\"Голубалдеж\",\"techSize\":\"M-L\",\"barcode\":\"2037773721267\",\"quantity\":11,\"totalPrice\":0,\"dateClose\":\"2023-05-04T00:00:00\",\"warehouseName\":\"\",\"nmId\":159411808,\"status\":\"Принято\"},{\"incomeId\":12206148,\"number\":\"\",\"date\":\"2023-05-04T00:00:00\",\"lastChangeDate\":\"2023-05-04T15:26:26.34\",\"supplierArticle\":\"розовежник\",\"techSize\":\"M-L\",\"barcode\":\"2037773721137\",\"quantity\":2,\"totalPrice\":0,\"dateClose\":\"2023-05-04T00:00:00\",\"warehouseName\":\"\",\"nmId\":159411809,\"status\":\"Принято\"},{\"incomeId\":12696490,\"number\":\"\",\"date\":\"2023-06-03T00:00:00\",\"lastChangeDate\":\"2023-06-03T04:01:18.247\",\"supplierArticle\":\"Этнический халат\",\"techSize\":\"XS-L\",\"barcode\":\"2037488839493\",\"quantity\":28,\"totalPrice\":0,\"dateClose\":\"2023-06-03T00:00:00\",\"warehouseName\":\"\",\"nmId\":147263932,\"status\":\"Принято\"},{\"incomeId\":12696490,\"number\":\"\",\"date\":\"2023-06-03T00:00:00\",\"lastChangeDate\":\"2023-06-03T04:01:18.247\",\"supplierArticle\":\"Голубалдеж\",\"techSize\":\"XS-S\",\"barcode\":\"2037773721250\",\"quantity\":8,\"totalPrice\":0,\"dateClose\":\"2023-06-03T00:00:00\",\"warehouseName\":\"\",\"nmId\":159411808,\"status\":\"Принято\"},{\"incomeId\":12696490,\"number\":\"\",\"date\":\"2023-06-03T00:00:00\",\"lastChangeDate\":\"2023-06-03T04:01:18.247\",\"supplierArticle\":\"Голубалдеж\",\"techSize\":\"M-L\",\"barcode\":\"2037773721267\",\"quantity\":13,\"totalPrice\":0,\"dateClose\":\"2023-06-03T00:00:00\",\"warehouseName\":\"\",\"nmId\":159411808,\"status\":\"Принято\"},{\"incomeId\":12696490,\"number\":\"\",\"date\":\"2023-06-03T00:00:00\",\"lastChangeDate\":\"2023-06-03T04:01:18.247\",\"supplierArticle\":\"Большие размеры\",\"techSize\":\"50-52\",\"barcode\":\"2037931695126\",\"quantity\":7,\"totalPrice\":0,\"dateClose\":\"2023-06-03T00:00:00\",\"warehouseName\":\"\",\"nmId\":163665918,\"status\":\"Принято\"},{\"incomeId\":12696490,\"number\":\"\",\"date\":\"2023-06-03T00:00:00\",\"lastChangeDate\":\"2023-06-03T04:01:18.247\",\"supplierArticle\":\"Большие размеры\",\"techSize\":\"54-56\",\"barcode\":\"2037931695133\",\"quantity\":7,\"totalPrice\":0,\"dateClose\":\"2023-06-03T00:00:00\",\"warehouseName\":\"\",\"nmId\":163665918,\"status\":\"Принято\"},{\"incomeId\":12696490,\"number\":\"\",\"date\":\"2023-06-03T00:00:00\",\"lastChangeDate\":\"2023-06-03T04:01:18.247\",\"supplierArticle\":\"Этнический халат\",\"techSize\":\"L-XXXL\",\"barcode\":\"2037931716449\",\"quantity\":30,\"totalPrice\":0,\"dateClose\":\"2023-06-03T00:00:00\",\"warehouseName\":\"\",\"nmId\":147263932,\"status\":\"Принято\"}]'"
      ]
     },
     "execution_count": 3,
     "metadata": {},
     "output_type": "execute_result"
    }
   ],
   "source": [
    "# Данные в переменную\n",
    "str_total = response.text  # достаём данные в строку\n",
    "str_total"
   ]
  },
  {
   "cell_type": "code",
   "execution_count": 4,
   "id": "6ba0c5dc",
   "metadata": {
    "collapsed": true
   },
   "outputs": [
    {
     "data": {
      "text/html": [
       "<div>\n",
       "<style scoped>\n",
       "    .dataframe tbody tr th:only-of-type {\n",
       "        vertical-align: middle;\n",
       "    }\n",
       "\n",
       "    .dataframe tbody tr th {\n",
       "        vertical-align: top;\n",
       "    }\n",
       "\n",
       "    .dataframe thead th {\n",
       "        text-align: right;\n",
       "    }\n",
       "</style>\n",
       "<table border=\"1\" class=\"dataframe\">\n",
       "  <thead>\n",
       "    <tr style=\"text-align: right;\">\n",
       "      <th></th>\n",
       "      <th>incomeId</th>\n",
       "      <th>number</th>\n",
       "      <th>date</th>\n",
       "      <th>lastChangeDate</th>\n",
       "      <th>supplierArticle</th>\n",
       "      <th>techSize</th>\n",
       "      <th>barcode</th>\n",
       "      <th>quantity</th>\n",
       "      <th>totalPrice</th>\n",
       "      <th>dateClose</th>\n",
       "      <th>warehouseName</th>\n",
       "      <th>nmId</th>\n",
       "      <th>status</th>\n",
       "    </tr>\n",
       "  </thead>\n",
       "  <tbody>\n",
       "    <tr>\n",
       "      <th>0</th>\n",
       "      <td>10960235</td>\n",
       "      <td></td>\n",
       "      <td>2023-02-21T00:00:00</td>\n",
       "      <td>2023-02-21T13:46:34.13</td>\n",
       "      <td>Синий халат</td>\n",
       "      <td>XS-L</td>\n",
       "      <td>2037488779201</td>\n",
       "      <td>37</td>\n",
       "      <td>0</td>\n",
       "      <td>2023-02-21T00:00:00</td>\n",
       "      <td>Подольск</td>\n",
       "      <td>147263461</td>\n",
       "      <td>Принято</td>\n",
       "    </tr>\n",
       "  </tbody>\n",
       "</table>\n",
       "</div>"
      ],
      "text/plain": [
       "   incomeId number                 date          lastChangeDate  \\\n",
       "0  10960235         2023-02-21T00:00:00  2023-02-21T13:46:34.13   \n",
       "\n",
       "  supplierArticle techSize        barcode  quantity  totalPrice  \\\n",
       "0     Синий халат     XS-L  2037488779201        37           0   \n",
       "\n",
       "             dateClose warehouseName       nmId   status  \n",
       "0  2023-02-21T00:00:00      Подольск  147263461  Принято  "
      ]
     },
     "execution_count": 4,
     "metadata": {},
     "output_type": "execute_result"
    }
   ],
   "source": [
    "# Создаём первую строку датафрэйма\n",
    "# Убираем лишние символы, разбиваем, берём первый заказ, добавляем символы для словаря\n",
    "s_first = '{' + str_total.replace('[', '').replace(']', '').split('},{')[0].replace('{', '').replace('}', '') + '}'\n",
    "# преобразуем словарь\n",
    "json_acceptable_string = s_first.replace('\"', \"\\\"\")\n",
    "data = json.loads(json_acceptable_string)\n",
    "# словарь в дф\n",
    "df = pd.DataFrame([data])\n",
    "df"
   ]
  },
  {
   "cell_type": "code",
   "execution_count": 5,
   "id": "10dd5df9",
   "metadata": {
    "collapsed": true
   },
   "outputs": [
    {
     "data": {
      "text/html": [
       "<div>\n",
       "<style scoped>\n",
       "    .dataframe tbody tr th:only-of-type {\n",
       "        vertical-align: middle;\n",
       "    }\n",
       "\n",
       "    .dataframe tbody tr th {\n",
       "        vertical-align: top;\n",
       "    }\n",
       "\n",
       "    .dataframe thead th {\n",
       "        text-align: right;\n",
       "    }\n",
       "</style>\n",
       "<table border=\"1\" class=\"dataframe\">\n",
       "  <thead>\n",
       "    <tr style=\"text-align: right;\">\n",
       "      <th></th>\n",
       "      <th>incomeId</th>\n",
       "      <th>number</th>\n",
       "      <th>date</th>\n",
       "      <th>lastChangeDate</th>\n",
       "      <th>supplierArticle</th>\n",
       "      <th>techSize</th>\n",
       "      <th>barcode</th>\n",
       "      <th>quantity</th>\n",
       "      <th>totalPrice</th>\n",
       "      <th>dateClose</th>\n",
       "      <th>warehouseName</th>\n",
       "      <th>nmId</th>\n",
       "      <th>status</th>\n",
       "    </tr>\n",
       "  </thead>\n",
       "  <tbody>\n",
       "    <tr>\n",
       "      <th>0</th>\n",
       "      <td>10960235</td>\n",
       "      <td></td>\n",
       "      <td>2023-02-21T00:00:00</td>\n",
       "      <td>2023-02-21T13:46:34.13</td>\n",
       "      <td>Синий халат</td>\n",
       "      <td>XS-L</td>\n",
       "      <td>2037488779201</td>\n",
       "      <td>37</td>\n",
       "      <td>0</td>\n",
       "      <td>2023-02-21T00:00:00</td>\n",
       "      <td>Подольск</td>\n",
       "      <td>147263461</td>\n",
       "      <td>Принято</td>\n",
       "    </tr>\n",
       "    <tr>\n",
       "      <th>1</th>\n",
       "      <td>10960235</td>\n",
       "      <td></td>\n",
       "      <td>2023-02-21T00:00:00</td>\n",
       "      <td>2023-02-21T13:46:34.13</td>\n",
       "      <td>Этнический халат</td>\n",
       "      <td>XS-L</td>\n",
       "      <td>2037488839493</td>\n",
       "      <td>28</td>\n",
       "      <td>0</td>\n",
       "      <td>2023-02-21T00:00:00</td>\n",
       "      <td>Подольск</td>\n",
       "      <td>147263932</td>\n",
       "      <td>Принято</td>\n",
       "    </tr>\n",
       "    <tr>\n",
       "      <th>2</th>\n",
       "      <td>10960235</td>\n",
       "      <td></td>\n",
       "      <td>2023-02-21T00:00:00</td>\n",
       "      <td>2023-02-21T13:46:34.13</td>\n",
       "      <td>Шелковая пижама лист1</td>\n",
       "      <td>XS-L</td>\n",
       "      <td>2037488886244</td>\n",
       "      <td>25</td>\n",
       "      <td>0</td>\n",
       "      <td>2023-02-21T00:00:00</td>\n",
       "      <td>Подольск</td>\n",
       "      <td>147271346</td>\n",
       "      <td>Принято</td>\n",
       "    </tr>\n",
       "  </tbody>\n",
       "</table>\n",
       "</div>"
      ],
      "text/plain": [
       "   incomeId number                 date          lastChangeDate  \\\n",
       "0  10960235         2023-02-21T00:00:00  2023-02-21T13:46:34.13   \n",
       "1  10960235         2023-02-21T00:00:00  2023-02-21T13:46:34.13   \n",
       "2  10960235         2023-02-21T00:00:00  2023-02-21T13:46:34.13   \n",
       "\n",
       "         supplierArticle techSize        barcode  quantity  totalPrice  \\\n",
       "0            Синий халат     XS-L  2037488779201        37           0   \n",
       "1       Этнический халат     XS-L  2037488839493        28           0   \n",
       "2  Шелковая пижама лист1     XS-L  2037488886244        25           0   \n",
       "\n",
       "             dateClose warehouseName       nmId   status  \n",
       "0  2023-02-21T00:00:00      Подольск  147263461  Принято  \n",
       "1  2023-02-21T00:00:00      Подольск  147263932  Принято  \n",
       "2  2023-02-21T00:00:00      Подольск  147271346  Принято  "
      ]
     },
     "execution_count": 5,
     "metadata": {},
     "output_type": "execute_result"
    }
   ],
   "source": [
    "# Проходимся циклом по строке и дополняем датафрэйм\n",
    "# Запускать 1 раз!\n",
    "str_need = str_total.split('},{')\n",
    "for i in str_need[1:]:  # Со второго элемента, так как первый уже закинул в дф\n",
    "    i = '{' + i.replace('[', '').replace(']', '').replace('{', '').replace('}', '') + '}'\n",
    "    json_acceptable_string = i.replace('\"', \"\\\"\")\n",
    "    data = json.loads(json_acceptable_string)\n",
    "    df_t = pd.DataFrame([data])\n",
    "    df = pd.concat([df, df_t])\n",
    "df = df.reset_index(drop=True)\n",
    "df.head(3)"
   ]
  },
  {
   "cell_type": "code",
   "execution_count": 6,
   "id": "7827610a",
   "metadata": {},
   "outputs": [],
   "source": [
    "# Создали колонку с датой\n",
    "df = df.assign(date = df.dateClose.apply(lambda x: x.split('T')[0]))"
   ]
  },
  {
   "cell_type": "code",
   "execution_count": 7,
   "id": "61a74bad",
   "metadata": {},
   "outputs": [],
   "source": [
    "# Оставим нужные колонки\n",
    "df = df[['incomeId', 'date', 'supplierArticle', 'techSize', 'barcode', 'quantity', 'warehouseName', 'nmId', 'status']]"
   ]
  },
  {
   "cell_type": "code",
   "execution_count": 8,
   "id": "e45bea0b",
   "metadata": {},
   "outputs": [],
   "source": [
    "# Дату в тип с датой\n",
    "df['date'] = pd.to_datetime(df['date'],format='%Y-%m-%d')"
   ]
  },
  {
   "cell_type": "code",
   "execution_count": 12,
   "id": "f2e7dd02",
   "metadata": {},
   "outputs": [],
   "source": [
    "# Сохранили сегодняшней датой\n",
    "today = date.today()\n",
    "df.to_excel(f'incomes_{today}.xlsx', index=False)"
   ]
  },
  {
   "cell_type": "markdown",
   "id": "0bfe6ab9",
   "metadata": {},
   "source": [
    "# Анализ"
   ]
  },
  {
   "cell_type": "code",
   "execution_count": 24,
   "id": "74108a1b",
   "metadata": {
    "collapsed": true
   },
   "outputs": [
    {
     "data": {
      "text/html": [
       "<div>\n",
       "<style scoped>\n",
       "    .dataframe tbody tr th:only-of-type {\n",
       "        vertical-align: middle;\n",
       "    }\n",
       "\n",
       "    .dataframe tbody tr th {\n",
       "        vertical-align: top;\n",
       "    }\n",
       "\n",
       "    .dataframe thead th {\n",
       "        text-align: right;\n",
       "    }\n",
       "</style>\n",
       "<table border=\"1\" class=\"dataframe\">\n",
       "  <thead>\n",
       "    <tr style=\"text-align: right;\">\n",
       "      <th></th>\n",
       "      <th>supplierArticle</th>\n",
       "      <th>quantity_total</th>\n",
       "      <th>prc_procure</th>\n",
       "    </tr>\n",
       "  </thead>\n",
       "  <tbody>\n",
       "    <tr>\n",
       "      <th>9</th>\n",
       "      <td>Этнический халат</td>\n",
       "      <td>95</td>\n",
       "      <td>40.0</td>\n",
       "    </tr>\n",
       "    <tr>\n",
       "      <th>1</th>\n",
       "      <td>Голубалдеж</td>\n",
       "      <td>41</td>\n",
       "      <td>17.0</td>\n",
       "    </tr>\n",
       "    <tr>\n",
       "      <th>3</th>\n",
       "      <td>Синий халат</td>\n",
       "      <td>37</td>\n",
       "      <td>16.0</td>\n",
       "    </tr>\n",
       "    <tr>\n",
       "      <th>8</th>\n",
       "      <td>Шелковая пижама лист1</td>\n",
       "      <td>25</td>\n",
       "      <td>11.0</td>\n",
       "    </tr>\n",
       "    <tr>\n",
       "      <th>0</th>\n",
       "      <td>Большие размеры</td>\n",
       "      <td>14</td>\n",
       "      <td>6.0</td>\n",
       "    </tr>\n",
       "    <tr>\n",
       "      <th>7</th>\n",
       "      <td>Шелковая пижама белые листья</td>\n",
       "      <td>5</td>\n",
       "      <td>2.0</td>\n",
       "    </tr>\n",
       "    <tr>\n",
       "      <th>5</th>\n",
       "      <td>Цвет ЗАРА</td>\n",
       "      <td>4</td>\n",
       "      <td>2.0</td>\n",
       "    </tr>\n",
       "    <tr>\n",
       "      <th>6</th>\n",
       "      <td>Черно-белый</td>\n",
       "      <td>4</td>\n",
       "      <td>2.0</td>\n",
       "    </tr>\n",
       "    <tr>\n",
       "      <th>11</th>\n",
       "      <td>черный журавли</td>\n",
       "      <td>4</td>\n",
       "      <td>2.0</td>\n",
       "    </tr>\n",
       "    <tr>\n",
       "      <th>2</th>\n",
       "      <td>Красный</td>\n",
       "      <td>2</td>\n",
       "      <td>1.0</td>\n",
       "    </tr>\n",
       "    <tr>\n",
       "      <th>4</th>\n",
       "      <td>Тигры</td>\n",
       "      <td>2</td>\n",
       "      <td>1.0</td>\n",
       "    </tr>\n",
       "    <tr>\n",
       "      <th>10</th>\n",
       "      <td>розовежник</td>\n",
       "      <td>2</td>\n",
       "      <td>1.0</td>\n",
       "    </tr>\n",
       "  </tbody>\n",
       "</table>\n",
       "</div>"
      ],
      "text/plain": [
       "                 supplierArticle  quantity_total  prc_procure\n",
       "9               Этнический халат              95         40.0\n",
       "1                     Голубалдеж              41         17.0\n",
       "3                    Синий халат              37         16.0\n",
       "8          Шелковая пижама лист1              25         11.0\n",
       "0                Большие размеры              14          6.0\n",
       "7   Шелковая пижама белые листья               5          2.0\n",
       "5                      Цвет ЗАРА               4          2.0\n",
       "6                    Черно-белый               4          2.0\n",
       "11                черный журавли               4          2.0\n",
       "2                        Красный               2          1.0\n",
       "4                          Тигры               2          1.0\n",
       "10                    розовежник               2          1.0"
      ]
     },
     "execution_count": 24,
     "metadata": {},
     "output_type": "execute_result"
    }
   ],
   "source": [
    "# Количество поставленных товаров\n",
    "total_incomes = df.groupby('supplierArticle', as_index=False).agg({'quantity': 'sum'})  \\\n",
    "    .rename(columns={'quantity': 'quantity_total'}).sort_values('quantity_total', ascending=False)\n",
    "total_incomes['prc_procure'] = round(total_incomes.quantity_total / total_incomes.quantity_total.sum() * 100)\n",
    "total_incomes"
   ]
  },
  {
   "cell_type": "code",
   "execution_count": 25,
   "id": "07a01833",
   "metadata": {},
   "outputs": [],
   "source": [
    "# Количество поставленных товаров в файл\n",
    "today = date.today()\n",
    "total_incomes.to_excel(f'Количество поставленных товаров_{today}.xlsx', index=False)"
   ]
  }
 ],
 "metadata": {
  "kernelspec": {
   "display_name": "Python 3 (ipykernel)",
   "language": "python",
   "name": "python3"
  },
  "language_info": {
   "codemirror_mode": {
    "name": "ipython",
    "version": 3
   },
   "file_extension": ".py",
   "mimetype": "text/x-python",
   "name": "python",
   "nbconvert_exporter": "python",
   "pygments_lexer": "ipython3",
   "version": "3.9.13"
  }
 },
 "nbformat": 4,
 "nbformat_minor": 5
}
