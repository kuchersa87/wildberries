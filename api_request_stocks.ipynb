{
 "cells": [
  {
   "cell_type": "markdown",
   "id": "adfe2bab",
   "metadata": {},
   "source": [
    "# Stocks"
   ]
  },
  {
   "cell_type": "code",
   "execution_count": 1,
   "id": "67b26295",
   "metadata": {},
   "outputs": [],
   "source": [
    "import requests\n",
    "import pandas as pd\n",
    "import json\n",
    "import time\n",
    "from datetime import date"
   ]
  },
  {
   "cell_type": "code",
   "execution_count": null,
   "id": "847f174f",
   "metadata": {},
   "outputs": [],
   "source": [
    "# Склад остатки - stocks?dateFrom=2023-04-12\n",
    "# Заказы        - orders?dateFrom=2023-02-09&flag=0\n",
    "# Продажи       - sales?dateFrom=2023-02-09&flag=0\n",
    "# Поставки      - incomes?dateFrom=2023-03-19\n",
    "# Отчет о продажах по реализации - reportDetailByPeriod?dateFrom=2023-02-09&dateTo=2023-02-28"
   ]
  },
  {
   "cell_type": "code",
   "execution_count": 2,
   "id": "644eb15d",
   "metadata": {
    "collapsed": true
   },
   "outputs": [
    {
     "name": "stdout",
     "output_type": "stream",
     "text": [
      "[{\"lastChangeDate\":\"2023-06-15T10:47:42.633\",\"supplierArticle\":\"Этнический халат\",\"techSize\":\"XS-М\",\"barcode\":\"2037488839493\",\"quantity\":0,\"isSupply\":true,\"isRealization\":false,\"quantityFull\":0,\"warehouseName\":\"Казань\",\"nmId\":147263932,\"subject\":\"Халаты домашние\",\"category\":\"Одежда\",\"daysOnSite\":113,\"brand\":\"\",\"SCCode\":\"Tech\",\"Price\":6400,\"Discount\":47},{\"lastChangeDate\":\"2023-06-16T10:03:35\",\"supplierArticle\":\"Этнический халат\",\"techSize\":\"XS-М\",\"barcode\":\"2037488839493\",\"quantity\":19,\"isSupply\":true,\"isRealization\":false,\"quantityFull\":22,\"warehouseName\":\"Электросталь\",\"nmId\":147263932,\"subject\":\"Халаты домашние\",\"category\":\"Одежда\",\"daysOnSite\":115,\"brand\":\"\",\"SCCode\":\"Tech\",\"Price\":6400,\"Discount\":47},{\"lastChangeDate\":\"2023-06-16T10:03:35\",\"supplierArticle\":\"Шелковая пижама лист1\",\"techSize\":\"XS-L\",\"barcode\":\"2037488886244\",\"quantity\":9,\"isSupply\":true,\"isRealization\":false,\"quantityFull\":10,\"warehouseName\":\"Коледино\",\"nmId\":147271346,\"subject\":\"Пижамы\",\"category\":\"Одежда\",\"daysOnSite\":115,\"brand\":\"\",\"SCCode\":\"Tech\",\"Price\":6700,\"Discount\":68},{\"lastChangeDate\":\"2023-06-16T10:03:35\",\"supplierArticle\":\"Шелковая пижама лист1\",\"techSize\":\"XS-L\",\"barcode\":\"2037488886244\",\"quantity\":1,\"isSupply\":true,\"isRealization\":false,\"quantityFull\":1,\"warehouseName\":\"Тула\",\"nmId\":147271346,\"subject\":\"Пижамы\",\"category\":\"Одежда\",\"daysOnSite\":115,\"brand\":\"\",\"SCCode\":\"Tech\",\"Price\":6700,\"Discount\":68},{\"lastChangeDate\":\"2023-06-16T10:03:35\",\"supplierArticle\":\"Шелковая пижама белые листья\",\"techSize\":\"XS-L\",\"barcode\":\"2037489085684\",\"quantity\":0,\"isSupply\":true,\"isRealization\":false,\"quantityFull\":1,\"warehouseName\":\"Коледино\",\"nmId\":147271347,\"subject\":\"Пижамы\",\"category\":\"Одежда\",\"daysOnSite\":115,\"brand\":\"\",\"SCCode\":\"Tech\",\"Price\":6700,\"Discount\":51},{\"lastChangeDate\":\"2023-06-16T10:03:35\",\"supplierArticle\":\"черный журавли\",\"techSize\":\"XS-L\",\"barcode\":\"2037562345810\",\"quantity\":1,\"isSupply\":true,\"isRealization\":false,\"quantityFull\":1,\"warehouseName\":\"Краснодар\",\"nmId\":150055859,\"subject\":\"Халаты домашние\",\"category\":\"Одежда\",\"daysOnSite\":96,\"brand\":\"\",\"SCCode\":\"Tech\",\"Price\":5800,\"Discount\":66},{\"lastChangeDate\":\"2023-06-16T10:03:35\",\"supplierArticle\":\"Голубалдеж\",\"techSize\":\"XS-S\",\"barcode\":\"2037773721250\",\"quantity\":0,\"isSupply\":true,\"isRealization\":false,\"quantityFull\":1,\"warehouseName\":\"Коледино\",\"nmId\":159411808,\"subject\":\"Костюмы\",\"category\":\"Одежда\",\"daysOnSite\":43,\"brand\":\"\",\"SCCode\":\"Tech\",\"Price\":6400,\"Discount\":30},{\"lastChangeDate\":\"2023-06-16T10:03:35\",\"supplierArticle\":\"Голубалдеж\",\"techSize\":\"XS-S\",\"barcode\":\"2037773721250\",\"quantity\":3,\"isSupply\":true,\"isRealization\":false,\"quantityFull\":3,\"warehouseName\":\"Санкт-Петербург\",\"nmId\":159411808,\"subject\":\"Костюмы\",\"category\":\"Одежда\",\"daysOnSite\":43,\"brand\":\"\",\"SCCode\":\"Tech\",\"Price\":6400,\"Discount\":30},{\"lastChangeDate\":\"2023-06-16T10:03:35\",\"supplierArticle\":\"Голубалдеж\",\"techSize\":\"XS-S\",\"barcode\":\"2037773721250\",\"quantity\":8,\"isSupply\":true,\"isRealization\":false,\"quantityFull\":8,\"warehouseName\":\"Электросталь\",\"nmId\":159411808,\"subject\":\"Костюмы\",\"category\":\"Одежда\",\"daysOnSite\":43,\"brand\":\"\",\"SCCode\":\"Tech\",\"Price\":6400,\"Discount\":30},{\"lastChangeDate\":\"2023-06-16T10:03:35\",\"supplierArticle\":\"Голубалдеж\",\"techSize\":\"XS-S\",\"barcode\":\"2037773721250\",\"quantity\":1,\"isSupply\":true,\"isRealization\":false,\"quantityFull\":1,\"warehouseName\":\"Санкт-Петербург\",\"nmId\":159411808,\"subject\":\"Костюмы\",\"category\":\"Одежда\",\"daysOnSite\":43,\"brand\":\"\",\"SCCode\":\"Tech\",\"Price\":6400,\"Discount\":30},{\"lastChangeDate\":\"2023-06-16T10:03:35\",\"supplierArticle\":\"Голубалдеж\",\"techSize\":\"M-L\",\"barcode\":\"2037773721267\",\"quantity\":2,\"isSupply\":true,\"isRealization\":false,\"quantityFull\":2,\"warehouseName\":\"Санкт-Петербург\",\"nmId\":159411808,\"subject\":\"Костюмы\",\"category\":\"Одежда\",\"daysOnSite\":43,\"brand\":\"\",\"SCCode\":\"Tech\",\"Price\":6400,\"Discount\":30},{\"lastChangeDate\":\"2023-06-16T10:03:35\",\"supplierArticle\":\"Голубалдеж\",\"techSize\":\"M-L\",\"barcode\":\"2037773721267\",\"quantity\":12,\"isSupply\":true,\"isRealization\":false,\"quantityFull\":13,\"warehouseName\":\"Электросталь\",\"nmId\":159411808,\"subject\":\"Костюмы\",\"category\":\"Одежда\",\"daysOnSite\":43,\"brand\":\"\",\"SCCode\":\"Tech\",\"Price\":6400,\"Discount\":30},{\"lastChangeDate\":\"2023-06-16T10:03:35\",\"supplierArticle\":\"розовежник\",\"techSize\":\"M-L\",\"barcode\":\"2037773721137\",\"quantity\":0,\"isSupply\":true,\"isRealization\":false,\"quantityFull\":2,\"warehouseName\":\"Коледино\",\"nmId\":159411809,\"subject\":\"Костюмы\",\"category\":\"Одежда\",\"daysOnSite\":43,\"brand\":\"\",\"SCCode\":\"Tech\",\"Price\":6400,\"Discount\":30},{\"lastChangeDate\":\"2023-06-16T10:03:35\",\"supplierArticle\":\"Синий халат\",\"techSize\":\"XS-L\",\"barcode\":\"2037488779201\",\"quantity\":8,\"isSupply\":true,\"isRealization\":false,\"quantityFull\":11,\"warehouseName\":\"Коледино\",\"nmId\":147263461,\"subject\":\"Халаты домашние\",\"category\":\"Одежда\",\"daysOnSite\":115,\"brand\":\"\",\"SCCode\":\"Tech\",\"Price\":5800,\"Discount\":72},{\"lastChangeDate\":\"2023-06-16T10:03:35\",\"supplierArticle\":\"Синий халат\",\"techSize\":\"XS-L\",\"barcode\":\"2037488779201\",\"quantity\":1,\"isSupply\":true,\"isRealization\":false,\"quantityFull\":1,\"warehouseName\":\"Санкт-Петербург\",\"nmId\":147263461,\"subject\":\"Халаты домашние\",\"category\":\"Одежда\",\"daysOnSite\":115,\"brand\":\"\",\"SCCode\":\"Tech\",\"Price\":5800,\"Discount\":72},{\"lastChangeDate\":\"2023-06-16T10:03:35\",\"supplierArticle\":\"Этнический халат\",\"techSize\":\"XS-М\",\"barcode\":\"2037488839493\",\"quantity\":2,\"isSupply\":true,\"isRealization\":false,\"quantityFull\":7,\"warehouseName\":\"Коледино\",\"nmId\":147263932,\"subject\":\"Халаты домашние\",\"category\":\"Одежда\",\"daysOnSite\":115,\"brand\":\"\",\"SCCode\":\"Tech\",\"Price\":6400,\"Discount\":47},{\"lastChangeDate\":\"2023-06-16T10:03:35\",\"supplierArticle\":\"Этнический халат\",\"techSize\":\"XS-М\",\"barcode\":\"2037488839493\",\"quantity\":5,\"isSupply\":true,\"isRealization\":false,\"quantityFull\":5,\"warehouseName\":\"Санкт-Петербург\",\"nmId\":147263932,\"subject\":\"Халаты домашние\",\"category\":\"Одежда\",\"daysOnSite\":115,\"brand\":\"\",\"SCCode\":\"Tech\",\"Price\":6400,\"Discount\":47},{\"lastChangeDate\":\"2023-06-16T10:03:35\",\"supplierArticle\":\"Большие размеры\",\"techSize\":\"50-52\",\"barcode\":\"2037931695126\",\"quantity\":6,\"isSupply\":true,\"isRealization\":false,\"quantityFull\":6,\"warehouseName\":\"Электросталь\",\"nmId\":163665918,\"subject\":\"Костюмы\",\"category\":\"Одежда\",\"daysOnSite\":13,\"brand\":\"\",\"SCCode\":\"Tech\",\"Price\":6700,\"Discount\":32},{\"lastChangeDate\":\"2023-06-16T10:03:35\",\"supplierArticle\":\"Большие размеры\",\"techSize\":\"54-56\",\"barcode\":\"2037931695133\",\"quantity\":7,\"isSupply\":true,\"isRealization\":false,\"quantityFull\":7,\"warehouseName\":\"Электросталь\",\"nmId\":163665918,\"subject\":\"Костюмы\",\"category\":\"Одежда\",\"daysOnSite\":13,\"brand\":\"\",\"SCCode\":\"Tech\",\"Price\":6700,\"Discount\":32},{\"lastChangeDate\":\"2023-06-16T10:03:35\",\"supplierArticle\":\"Этнический халат\",\"techSize\":\"L-XXXL\",\"barcode\":\"2037931716449\",\"quantity\":0,\"isSupply\":true,\"isRealization\":false,\"quantityFull\":9,\"warehouseName\":\"Коледино\",\"nmId\":147263932,\"subject\":\"Халаты домашние\",\"category\":\"Одежда\",\"daysOnSite\":115,\"brand\":\"\",\"SCCode\":\"Tech\",\"Price\":6400,\"Discount\":47},{\"lastChangeDate\":\"2023-06-16T10:03:35\",\"supplierArticle\":\"Этнический халат\",\"techSize\":\"L-XXXL\",\"barcode\":\"2037931716449\",\"quantity\":11,\"isSupply\":true,\"isRealization\":false,\"quantityFull\":14,\"warehouseName\":\"Электросталь\",\"nmId\":147263932,\"subject\":\"Халаты домашние\",\"category\":\"Одежда\",\"daysOnSite\":115,\"brand\":\"\",\"SCCode\":\"Tech\",\"Price\":6400,\"Discount\":47},{\"lastChangeDate\":\"2023-06-16T10:23:33.523\",\"supplierArticle\":\"розовежник\",\"techSize\":\"M-L\",\"barcode\":\"2037773721137\",\"quantity\":0,\"isSupply\":true,\"isRealization\":false,\"quantityFull\":0,\"warehouseName\":\"Тула\",\"nmId\":159411809,\"subject\":\"Костюмы\",\"category\":\"Одежда\",\"daysOnSite\":42,\"brand\":\"\",\"SCCode\":\"Tech\",\"Price\":6400,\"Discount\":30},{\"lastChangeDate\":\"2023-06-16T10:23:33.523\",\"supplierArticle\":\"Этнический халат\",\"techSize\":\"XS-М\",\"barcode\":\"2037488839493\",\"quantity\":0,\"isSupply\":true,\"isRealization\":false,\"quantityFull\":0,\"warehouseName\":\"Тула\",\"nmId\":147263932,\"subject\":\"Халаты домашние\",\"category\":\"Одежда\",\"daysOnSite\":114,\"brand\":\"\",\"SCCode\":\"Tech\",\"Price\":6400,\"Discount\":47}]\n"
     ]
    }
   ],
   "source": [
    "# Выгружаем данные\n",
    "# На выходе получается строка с информацие в виде словаря\n",
    "url = \"https://statistics-api.wildberries.ru/api/v1/supplier/stocks?dateFrom=2023-01-01\"\n",
    "payload = {}\n",
    "headers = {\n",
    "  'Authorization': ''\n",
    "}\n",
    "response = requests.request(\"GET\", url, headers=headers, data=payload)\n",
    "print(response.text)"
   ]
  },
  {
   "cell_type": "code",
   "execution_count": 3,
   "id": "19f154aa",
   "metadata": {
    "collapsed": true
   },
   "outputs": [
    {
     "data": {
      "text/plain": [
       "'[{\"lastChangeDate\":\"2023-06-15T10:47:42.633\",\"supplierArticle\":\"Этнический халат\",\"techSize\":\"XS-М\",\"barcode\":\"2037488839493\",\"quantity\":0,\"isSupply\":true,\"isRealization\":false,\"quantityFull\":0,\"warehouseName\":\"Казань\",\"nmId\":147263932,\"subject\":\"Халаты домашние\",\"category\":\"Одежда\",\"daysOnSite\":113,\"brand\":\"\",\"SCCode\":\"Tech\",\"Price\":6400,\"Discount\":47},{\"lastChangeDate\":\"2023-06-16T10:03:35\",\"supplierArticle\":\"Этнический халат\",\"techSize\":\"XS-М\",\"barcode\":\"2037488839493\",\"quantity\":19,\"isSupply\":true,\"isRealization\":false,\"quantityFull\":22,\"warehouseName\":\"Электросталь\",\"nmId\":147263932,\"subject\":\"Халаты домашние\",\"category\":\"Одежда\",\"daysOnSite\":115,\"brand\":\"\",\"SCCode\":\"Tech\",\"Price\":6400,\"Discount\":47},{\"lastChangeDate\":\"2023-06-16T10:03:35\",\"supplierArticle\":\"Шелковая пижама лист1\",\"techSize\":\"XS-L\",\"barcode\":\"2037488886244\",\"quantity\":9,\"isSupply\":true,\"isRealization\":false,\"quantityFull\":10,\"warehouseName\":\"Коледино\",\"nmId\":147271346,\"subject\":\"Пижамы\",\"category\":\"Одежда\",\"daysOnSite\":115,\"brand\":\"\",\"SCCode\":\"Tech\",\"Price\":6700,\"Discount\":68},{\"lastChangeDate\":\"2023-06-16T10:03:35\",\"supplierArticle\":\"Шелковая пижама лист1\",\"techSize\":\"XS-L\",\"barcode\":\"2037488886244\",\"quantity\":1,\"isSupply\":true,\"isRealization\":false,\"quantityFull\":1,\"warehouseName\":\"Тула\",\"nmId\":147271346,\"subject\":\"Пижамы\",\"category\":\"Одежда\",\"daysOnSite\":115,\"brand\":\"\",\"SCCode\":\"Tech\",\"Price\":6700,\"Discount\":68},{\"lastChangeDate\":\"2023-06-16T10:03:35\",\"supplierArticle\":\"Шелковая пижама белые листья\",\"techSize\":\"XS-L\",\"barcode\":\"2037489085684\",\"quantity\":0,\"isSupply\":true,\"isRealization\":false,\"quantityFull\":1,\"warehouseName\":\"Коледино\",\"nmId\":147271347,\"subject\":\"Пижамы\",\"category\":\"Одежда\",\"daysOnSite\":115,\"brand\":\"\",\"SCCode\":\"Tech\",\"Price\":6700,\"Discount\":51},{\"lastChangeDate\":\"2023-06-16T10:03:35\",\"supplierArticle\":\"черный журавли\",\"techSize\":\"XS-L\",\"barcode\":\"2037562345810\",\"quantity\":1,\"isSupply\":true,\"isRealization\":false,\"quantityFull\":1,\"warehouseName\":\"Краснодар\",\"nmId\":150055859,\"subject\":\"Халаты домашние\",\"category\":\"Одежда\",\"daysOnSite\":96,\"brand\":\"\",\"SCCode\":\"Tech\",\"Price\":5800,\"Discount\":66},{\"lastChangeDate\":\"2023-06-16T10:03:35\",\"supplierArticle\":\"Голубалдеж\",\"techSize\":\"XS-S\",\"barcode\":\"2037773721250\",\"quantity\":0,\"isSupply\":true,\"isRealization\":false,\"quantityFull\":1,\"warehouseName\":\"Коледино\",\"nmId\":159411808,\"subject\":\"Костюмы\",\"category\":\"Одежда\",\"daysOnSite\":43,\"brand\":\"\",\"SCCode\":\"Tech\",\"Price\":6400,\"Discount\":30},{\"lastChangeDate\":\"2023-06-16T10:03:35\",\"supplierArticle\":\"Голубалдеж\",\"techSize\":\"XS-S\",\"barcode\":\"2037773721250\",\"quantity\":3,\"isSupply\":true,\"isRealization\":false,\"quantityFull\":3,\"warehouseName\":\"Санкт-Петербург\",\"nmId\":159411808,\"subject\":\"Костюмы\",\"category\":\"Одежда\",\"daysOnSite\":43,\"brand\":\"\",\"SCCode\":\"Tech\",\"Price\":6400,\"Discount\":30},{\"lastChangeDate\":\"2023-06-16T10:03:35\",\"supplierArticle\":\"Голубалдеж\",\"techSize\":\"XS-S\",\"barcode\":\"2037773721250\",\"quantity\":8,\"isSupply\":true,\"isRealization\":false,\"quantityFull\":8,\"warehouseName\":\"Электросталь\",\"nmId\":159411808,\"subject\":\"Костюмы\",\"category\":\"Одежда\",\"daysOnSite\":43,\"brand\":\"\",\"SCCode\":\"Tech\",\"Price\":6400,\"Discount\":30},{\"lastChangeDate\":\"2023-06-16T10:03:35\",\"supplierArticle\":\"Голубалдеж\",\"techSize\":\"XS-S\",\"barcode\":\"2037773721250\",\"quantity\":1,\"isSupply\":true,\"isRealization\":false,\"quantityFull\":1,\"warehouseName\":\"Санкт-Петербург\",\"nmId\":159411808,\"subject\":\"Костюмы\",\"category\":\"Одежда\",\"daysOnSite\":43,\"brand\":\"\",\"SCCode\":\"Tech\",\"Price\":6400,\"Discount\":30},{\"lastChangeDate\":\"2023-06-16T10:03:35\",\"supplierArticle\":\"Голубалдеж\",\"techSize\":\"M-L\",\"barcode\":\"2037773721267\",\"quantity\":2,\"isSupply\":true,\"isRealization\":false,\"quantityFull\":2,\"warehouseName\":\"Санкт-Петербург\",\"nmId\":159411808,\"subject\":\"Костюмы\",\"category\":\"Одежда\",\"daysOnSite\":43,\"brand\":\"\",\"SCCode\":\"Tech\",\"Price\":6400,\"Discount\":30},{\"lastChangeDate\":\"2023-06-16T10:03:35\",\"supplierArticle\":\"Голубалдеж\",\"techSize\":\"M-L\",\"barcode\":\"2037773721267\",\"quantity\":12,\"isSupply\":true,\"isRealization\":false,\"quantityFull\":13,\"warehouseName\":\"Электросталь\",\"nmId\":159411808,\"subject\":\"Костюмы\",\"category\":\"Одежда\",\"daysOnSite\":43,\"brand\":\"\",\"SCCode\":\"Tech\",\"Price\":6400,\"Discount\":30},{\"lastChangeDate\":\"2023-06-16T10:03:35\",\"supplierArticle\":\"розовежник\",\"techSize\":\"M-L\",\"barcode\":\"2037773721137\",\"quantity\":0,\"isSupply\":true,\"isRealization\":false,\"quantityFull\":2,\"warehouseName\":\"Коледино\",\"nmId\":159411809,\"subject\":\"Костюмы\",\"category\":\"Одежда\",\"daysOnSite\":43,\"brand\":\"\",\"SCCode\":\"Tech\",\"Price\":6400,\"Discount\":30},{\"lastChangeDate\":\"2023-06-16T10:03:35\",\"supplierArticle\":\"Синий халат\",\"techSize\":\"XS-L\",\"barcode\":\"2037488779201\",\"quantity\":8,\"isSupply\":true,\"isRealization\":false,\"quantityFull\":11,\"warehouseName\":\"Коледино\",\"nmId\":147263461,\"subject\":\"Халаты домашние\",\"category\":\"Одежда\",\"daysOnSite\":115,\"brand\":\"\",\"SCCode\":\"Tech\",\"Price\":5800,\"Discount\":72},{\"lastChangeDate\":\"2023-06-16T10:03:35\",\"supplierArticle\":\"Синий халат\",\"techSize\":\"XS-L\",\"barcode\":\"2037488779201\",\"quantity\":1,\"isSupply\":true,\"isRealization\":false,\"quantityFull\":1,\"warehouseName\":\"Санкт-Петербург\",\"nmId\":147263461,\"subject\":\"Халаты домашние\",\"category\":\"Одежда\",\"daysOnSite\":115,\"brand\":\"\",\"SCCode\":\"Tech\",\"Price\":5800,\"Discount\":72},{\"lastChangeDate\":\"2023-06-16T10:03:35\",\"supplierArticle\":\"Этнический халат\",\"techSize\":\"XS-М\",\"barcode\":\"2037488839493\",\"quantity\":2,\"isSupply\":true,\"isRealization\":false,\"quantityFull\":7,\"warehouseName\":\"Коледино\",\"nmId\":147263932,\"subject\":\"Халаты домашние\",\"category\":\"Одежда\",\"daysOnSite\":115,\"brand\":\"\",\"SCCode\":\"Tech\",\"Price\":6400,\"Discount\":47},{\"lastChangeDate\":\"2023-06-16T10:03:35\",\"supplierArticle\":\"Этнический халат\",\"techSize\":\"XS-М\",\"barcode\":\"2037488839493\",\"quantity\":5,\"isSupply\":true,\"isRealization\":false,\"quantityFull\":5,\"warehouseName\":\"Санкт-Петербург\",\"nmId\":147263932,\"subject\":\"Халаты домашние\",\"category\":\"Одежда\",\"daysOnSite\":115,\"brand\":\"\",\"SCCode\":\"Tech\",\"Price\":6400,\"Discount\":47},{\"lastChangeDate\":\"2023-06-16T10:03:35\",\"supplierArticle\":\"Большие размеры\",\"techSize\":\"50-52\",\"barcode\":\"2037931695126\",\"quantity\":6,\"isSupply\":true,\"isRealization\":false,\"quantityFull\":6,\"warehouseName\":\"Электросталь\",\"nmId\":163665918,\"subject\":\"Костюмы\",\"category\":\"Одежда\",\"daysOnSite\":13,\"brand\":\"\",\"SCCode\":\"Tech\",\"Price\":6700,\"Discount\":32},{\"lastChangeDate\":\"2023-06-16T10:03:35\",\"supplierArticle\":\"Большие размеры\",\"techSize\":\"54-56\",\"barcode\":\"2037931695133\",\"quantity\":7,\"isSupply\":true,\"isRealization\":false,\"quantityFull\":7,\"warehouseName\":\"Электросталь\",\"nmId\":163665918,\"subject\":\"Костюмы\",\"category\":\"Одежда\",\"daysOnSite\":13,\"brand\":\"\",\"SCCode\":\"Tech\",\"Price\":6700,\"Discount\":32},{\"lastChangeDate\":\"2023-06-16T10:03:35\",\"supplierArticle\":\"Этнический халат\",\"techSize\":\"L-XXXL\",\"barcode\":\"2037931716449\",\"quantity\":0,\"isSupply\":true,\"isRealization\":false,\"quantityFull\":9,\"warehouseName\":\"Коледино\",\"nmId\":147263932,\"subject\":\"Халаты домашние\",\"category\":\"Одежда\",\"daysOnSite\":115,\"brand\":\"\",\"SCCode\":\"Tech\",\"Price\":6400,\"Discount\":47},{\"lastChangeDate\":\"2023-06-16T10:03:35\",\"supplierArticle\":\"Этнический халат\",\"techSize\":\"L-XXXL\",\"barcode\":\"2037931716449\",\"quantity\":11,\"isSupply\":true,\"isRealization\":false,\"quantityFull\":14,\"warehouseName\":\"Электросталь\",\"nmId\":147263932,\"subject\":\"Халаты домашние\",\"category\":\"Одежда\",\"daysOnSite\":115,\"brand\":\"\",\"SCCode\":\"Tech\",\"Price\":6400,\"Discount\":47},{\"lastChangeDate\":\"2023-06-16T10:23:33.523\",\"supplierArticle\":\"розовежник\",\"techSize\":\"M-L\",\"barcode\":\"2037773721137\",\"quantity\":0,\"isSupply\":true,\"isRealization\":false,\"quantityFull\":0,\"warehouseName\":\"Тула\",\"nmId\":159411809,\"subject\":\"Костюмы\",\"category\":\"Одежда\",\"daysOnSite\":42,\"brand\":\"\",\"SCCode\":\"Tech\",\"Price\":6400,\"Discount\":30},{\"lastChangeDate\":\"2023-06-16T10:23:33.523\",\"supplierArticle\":\"Этнический халат\",\"techSize\":\"XS-М\",\"barcode\":\"2037488839493\",\"quantity\":0,\"isSupply\":true,\"isRealization\":false,\"quantityFull\":0,\"warehouseName\":\"Тула\",\"nmId\":147263932,\"subject\":\"Халаты домашние\",\"category\":\"Одежда\",\"daysOnSite\":114,\"brand\":\"\",\"SCCode\":\"Tech\",\"Price\":6400,\"Discount\":47}]'"
      ]
     },
     "execution_count": 3,
     "metadata": {},
     "output_type": "execute_result"
    }
   ],
   "source": [
    "# Данные в переменную\n",
    "str_total = response.text  # достаём данные в строку\n",
    "str_total"
   ]
  },
  {
   "cell_type": "code",
   "execution_count": 4,
   "id": "6ba0c5dc",
   "metadata": {
    "collapsed": true
   },
   "outputs": [
    {
     "data": {
      "text/html": [
       "<div>\n",
       "<style scoped>\n",
       "    .dataframe tbody tr th:only-of-type {\n",
       "        vertical-align: middle;\n",
       "    }\n",
       "\n",
       "    .dataframe tbody tr th {\n",
       "        vertical-align: top;\n",
       "    }\n",
       "\n",
       "    .dataframe thead th {\n",
       "        text-align: right;\n",
       "    }\n",
       "</style>\n",
       "<table border=\"1\" class=\"dataframe\">\n",
       "  <thead>\n",
       "    <tr style=\"text-align: right;\">\n",
       "      <th></th>\n",
       "      <th>lastChangeDate</th>\n",
       "      <th>supplierArticle</th>\n",
       "      <th>techSize</th>\n",
       "      <th>barcode</th>\n",
       "      <th>quantity</th>\n",
       "      <th>isSupply</th>\n",
       "      <th>isRealization</th>\n",
       "      <th>quantityFull</th>\n",
       "      <th>warehouseName</th>\n",
       "      <th>nmId</th>\n",
       "      <th>subject</th>\n",
       "      <th>category</th>\n",
       "      <th>daysOnSite</th>\n",
       "      <th>brand</th>\n",
       "      <th>SCCode</th>\n",
       "      <th>Price</th>\n",
       "      <th>Discount</th>\n",
       "    </tr>\n",
       "  </thead>\n",
       "  <tbody>\n",
       "    <tr>\n",
       "      <th>0</th>\n",
       "      <td>2023-06-15T10:47:42.633</td>\n",
       "      <td>Этнический халат</td>\n",
       "      <td>XS-М</td>\n",
       "      <td>2037488839493</td>\n",
       "      <td>0</td>\n",
       "      <td>True</td>\n",
       "      <td>False</td>\n",
       "      <td>0</td>\n",
       "      <td>Казань</td>\n",
       "      <td>147263932</td>\n",
       "      <td>Халаты домашние</td>\n",
       "      <td>Одежда</td>\n",
       "      <td>113</td>\n",
       "      <td></td>\n",
       "      <td>Tech</td>\n",
       "      <td>6400</td>\n",
       "      <td>47</td>\n",
       "    </tr>\n",
       "  </tbody>\n",
       "</table>\n",
       "</div>"
      ],
      "text/plain": [
       "            lastChangeDate   supplierArticle techSize        barcode  \\\n",
       "0  2023-06-15T10:47:42.633  Этнический халат     XS-М  2037488839493   \n",
       "\n",
       "   quantity  isSupply  isRealization  quantityFull warehouseName       nmId  \\\n",
       "0         0      True          False             0        Казань  147263932   \n",
       "\n",
       "           subject category  daysOnSite brand SCCode  Price  Discount  \n",
       "0  Халаты домашние   Одежда         113         Tech   6400        47  "
      ]
     },
     "execution_count": 4,
     "metadata": {},
     "output_type": "execute_result"
    }
   ],
   "source": [
    "# Создаём первую строку датафрэйма\n",
    "# Убираем лишние символы, разбиваем, берём первый заказ, добавляем символы для словаря\n",
    "s_first = '{' + str_total.replace('[', '').replace(']', '').split('},{')[0].replace('{', '').replace('}', '') + '}'\n",
    "# преобразуем словарь\n",
    "json_acceptable_string = s_first.replace('\"', \"\\\"\")\n",
    "data = json.loads(json_acceptable_string)\n",
    "# словарь в дф\n",
    "df = pd.DataFrame([data])\n",
    "df"
   ]
  },
  {
   "cell_type": "code",
   "execution_count": 5,
   "id": "10dd5df9",
   "metadata": {
    "collapsed": true
   },
   "outputs": [
    {
     "data": {
      "text/html": [
       "<div>\n",
       "<style scoped>\n",
       "    .dataframe tbody tr th:only-of-type {\n",
       "        vertical-align: middle;\n",
       "    }\n",
       "\n",
       "    .dataframe tbody tr th {\n",
       "        vertical-align: top;\n",
       "    }\n",
       "\n",
       "    .dataframe thead th {\n",
       "        text-align: right;\n",
       "    }\n",
       "</style>\n",
       "<table border=\"1\" class=\"dataframe\">\n",
       "  <thead>\n",
       "    <tr style=\"text-align: right;\">\n",
       "      <th></th>\n",
       "      <th>lastChangeDate</th>\n",
       "      <th>supplierArticle</th>\n",
       "      <th>techSize</th>\n",
       "      <th>barcode</th>\n",
       "      <th>quantity</th>\n",
       "      <th>isSupply</th>\n",
       "      <th>isRealization</th>\n",
       "      <th>quantityFull</th>\n",
       "      <th>warehouseName</th>\n",
       "      <th>nmId</th>\n",
       "      <th>subject</th>\n",
       "      <th>category</th>\n",
       "      <th>daysOnSite</th>\n",
       "      <th>brand</th>\n",
       "      <th>SCCode</th>\n",
       "      <th>Price</th>\n",
       "      <th>Discount</th>\n",
       "    </tr>\n",
       "  </thead>\n",
       "  <tbody>\n",
       "    <tr>\n",
       "      <th>0</th>\n",
       "      <td>2023-06-15T10:47:42.633</td>\n",
       "      <td>Этнический халат</td>\n",
       "      <td>XS-М</td>\n",
       "      <td>2037488839493</td>\n",
       "      <td>0</td>\n",
       "      <td>True</td>\n",
       "      <td>False</td>\n",
       "      <td>0</td>\n",
       "      <td>Казань</td>\n",
       "      <td>147263932</td>\n",
       "      <td>Халаты домашние</td>\n",
       "      <td>Одежда</td>\n",
       "      <td>113</td>\n",
       "      <td></td>\n",
       "      <td>Tech</td>\n",
       "      <td>6400</td>\n",
       "      <td>47</td>\n",
       "    </tr>\n",
       "    <tr>\n",
       "      <th>1</th>\n",
       "      <td>2023-06-16T10:03:35</td>\n",
       "      <td>Этнический халат</td>\n",
       "      <td>XS-М</td>\n",
       "      <td>2037488839493</td>\n",
       "      <td>19</td>\n",
       "      <td>True</td>\n",
       "      <td>False</td>\n",
       "      <td>22</td>\n",
       "      <td>Электросталь</td>\n",
       "      <td>147263932</td>\n",
       "      <td>Халаты домашние</td>\n",
       "      <td>Одежда</td>\n",
       "      <td>115</td>\n",
       "      <td></td>\n",
       "      <td>Tech</td>\n",
       "      <td>6400</td>\n",
       "      <td>47</td>\n",
       "    </tr>\n",
       "    <tr>\n",
       "      <th>2</th>\n",
       "      <td>2023-06-16T10:03:35</td>\n",
       "      <td>Шелковая пижама лист1</td>\n",
       "      <td>XS-L</td>\n",
       "      <td>2037488886244</td>\n",
       "      <td>9</td>\n",
       "      <td>True</td>\n",
       "      <td>False</td>\n",
       "      <td>10</td>\n",
       "      <td>Коледино</td>\n",
       "      <td>147271346</td>\n",
       "      <td>Пижамы</td>\n",
       "      <td>Одежда</td>\n",
       "      <td>115</td>\n",
       "      <td></td>\n",
       "      <td>Tech</td>\n",
       "      <td>6700</td>\n",
       "      <td>68</td>\n",
       "    </tr>\n",
       "  </tbody>\n",
       "</table>\n",
       "</div>"
      ],
      "text/plain": [
       "            lastChangeDate        supplierArticle techSize        barcode  \\\n",
       "0  2023-06-15T10:47:42.633       Этнический халат     XS-М  2037488839493   \n",
       "1      2023-06-16T10:03:35       Этнический халат     XS-М  2037488839493   \n",
       "2      2023-06-16T10:03:35  Шелковая пижама лист1     XS-L  2037488886244   \n",
       "\n",
       "   quantity  isSupply  isRealization  quantityFull warehouseName       nmId  \\\n",
       "0         0      True          False             0        Казань  147263932   \n",
       "1        19      True          False            22  Электросталь  147263932   \n",
       "2         9      True          False            10      Коледино  147271346   \n",
       "\n",
       "           subject category  daysOnSite brand SCCode  Price  Discount  \n",
       "0  Халаты домашние   Одежда         113         Tech   6400        47  \n",
       "1  Халаты домашние   Одежда         115         Tech   6400        47  \n",
       "2           Пижамы   Одежда         115         Tech   6700        68  "
      ]
     },
     "execution_count": 5,
     "metadata": {},
     "output_type": "execute_result"
    }
   ],
   "source": [
    "# Проходимся циклом по строке и дополняем датафрэйм\n",
    "# Запускать 1 раз!\n",
    "str_need = str_total.split('},{')\n",
    "for i in str_need[1:]:  # Со второго элемента, так как первый уже закинул в дф\n",
    "    i = '{' + i.replace('[', '').replace(']', '').replace('{', '').replace('}', '') + '}'\n",
    "    json_acceptable_string = i.replace('\"', \"\\\"\")\n",
    "    data = json.loads(json_acceptable_string)\n",
    "    df_t = pd.DataFrame([data])\n",
    "    df = pd.concat([df, df_t])\n",
    "df = df.reset_index(drop=True)\n",
    "df.head(3)"
   ]
  },
  {
   "cell_type": "code",
   "execution_count": 7,
   "id": "f2e7dd02",
   "metadata": {},
   "outputs": [],
   "source": [
    "# Сохранили сегодняшней датой\n",
    "today = date.today()\n",
    "df.to_excel(f'stocks_{today}.xlsx', index=False)"
   ]
  }
 ],
 "metadata": {
  "kernelspec": {
   "display_name": "Python 3 (ipykernel)",
   "language": "python",
   "name": "python3"
  },
  "language_info": {
   "codemirror_mode": {
    "name": "ipython",
    "version": 3
   },
   "file_extension": ".py",
   "mimetype": "text/x-python",
   "name": "python",
   "nbconvert_exporter": "python",
   "pygments_lexer": "ipython3",
   "version": "3.9.13"
  }
 },
 "nbformat": 4,
 "nbformat_minor": 5
}
